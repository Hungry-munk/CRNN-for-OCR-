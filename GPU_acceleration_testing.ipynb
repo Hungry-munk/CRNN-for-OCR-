{
 "cells": [
  {
   "cell_type": "code",
   "execution_count": 1,
   "metadata": {},
   "outputs": [],
   "source": [
    "import os\n",
    "import sys\n",
    "import tensorflow as tf\n",
    "import numpy as np\n",
    "import time"
   ]
  },
  {
   "cell_type": "code",
   "execution_count": 2,
   "metadata": {},
   "outputs": [
    {
     "name": "stdout",
     "output_type": "stream",
     "text": [
      "c:\\Users\\arsam\\conda\\envs\\OCR-env\\python.exe\n",
      "1.23.5\n",
      "2.10.1\n",
      "CUDA available: True\n",
      "GPU devices: [PhysicalDevice(name='/physical_device:GPU:0', device_type='GPU')]\n",
      "All devices: [LogicalDevice(name='/device:CPU:0', device_type='CPU'), LogicalDevice(name='/device:GPU:0', device_type='GPU')]\n"
     ]
    }
   ],
   "source": [
    "# Ensure numpy and tensorflow are working\n",
    "print(sys.executable)\n",
    "print(np.__version__)\n",
    "print(tf.__version__)\n",
    "\n",
    "# Ensure graphics cards and CUDA drivers are available\n",
    "print(\"CUDA available:\", tf.test.is_built_with_cuda())\n",
    "\n",
    "# List all GPUS and then available devices\n",
    "print(\"GPU devices:\", tf.config.list_physical_devices('GPU'))\n",
    "print(\"All devices:\", tf.config.list_logical_devices())"
   ]
  },
  {
   "cell_type": "code",
   "execution_count": 3,
   "metadata": {},
   "outputs": [
    {
     "name": "stdout",
     "output_type": "stream",
     "text": [
      "Matrix multiplication result: tf.Tensor(\n",
      "[[22. 28.]\n",
      " [49. 64.]], shape=(2, 2), dtype=float32)\n",
      "WARNING:tensorflow:From C:\\Users\\arsam\\AppData\\Local\\Temp\\ipykernel_15496\\2511434429.py:13: is_gpu_available (from tensorflow.python.framework.test_util) is deprecated and will be removed in a future version.\n",
      "Instructions for updating:\n",
      "Use `tf.config.list_physical_devices('GPU')` instead.\n",
      "TensorFlow is using GPU: True\n"
     ]
    }
   ],
   "source": [
    "# Force GPU usage\n",
    "os.environ[\"CUDA_VISIBLE_DEVICES\"] = \"0\"\n",
    "\n",
    "gpus = tf.config.list_physical_devices('GPU')\n",
    "\n",
    "if gpus:\n",
    "    # Simple matrix multiplication test\n",
    "    with tf.device('/GPU:0'):\n",
    "        a = tf.constant([[1.0, 2.0, 3.0], [4.0, 5.0, 6.0]]) #2x3 matrix\n",
    "        b = tf.constant([[1.0, 2.0], [3.0, 4.0], [5.0, 6.0]]) #3x2 matrix\n",
    "        c = tf.matmul(a, b) #multiply them to get a 2x2 matrix\n",
    "        print(\"Matrix multiplication result:\", c)\n",
    "    print(\"TensorFlow is using GPU:\", tf.test.is_gpu_available())\n",
    "else:\n",
    "    print(\"No GPUs available\")"
   ]
  },
  {
   "cell_type": "code",
   "execution_count": 4,
   "metadata": {},
   "outputs": [],
   "source": [
    "gpus = tf.config.list_physical_devices('GPU')\n",
    "\n",
    "# Set the GPU as the only visible device\n",
    "if gpus:\n",
    "    tf.config.set_visible_devices(gpus[0], 'GPU')\n",
    "\n",
    "# Run multiple iterations to avoid the first-run overhead\n",
    "def benchmark(device_name, n_iterations=5, matrix_size=10000):\n",
    "    print(f\"Running on {device_name}:\")\n",
    "    times = []\n",
    "    for _ in range(n_iterations):\n",
    "        with tf.device(device_name):\n",
    "            a = tf.random.uniform([matrix_size, matrix_size])\n",
    "            b = tf.random.uniform([matrix_size, matrix_size])\n",
    "            start = time.time()\n",
    "            c = tf.matmul(a, b)\n",
    "            tf.keras.backend.clear_session() #free GPU memory\n",
    "            end = time.time()\n",
    "            times.append(end - start)\n",
    "            #print(f\"Iteration time: {end - start:.4f} seconds\")\n",
    "    print(f\"Average time on {device_name}: {sum(times) / n_iterations:.4f} seconds\")\n",
    "    print(f\"Total time on {device_name}: {sum(times):.4f} seconds\")\n",
    "    "
   ]
  },
  {
   "cell_type": "code",
   "execution_count": 8,
   "metadata": {},
   "outputs": [
    {
     "name": "stdout",
     "output_type": "stream",
     "text": [
      "Running on /GPU:0:\n",
      "Average time on /GPU:0: 0.0848 seconds\n",
      "Total time on /GPU:0: 8.4845 seconds\n"
     ]
    },
    {
     "ename": "",
     "evalue": "",
     "output_type": "error",
     "traceback": [
      "\u001b[1;31mThe Kernel crashed while executing code in the current cell or a previous cell. \n",
      "\u001b[1;31mPlease review the code in the cell(s) to identify a possible cause of the failure. \n",
      "\u001b[1;31mClick <a href='https://aka.ms/vscodeJupyterKernelCrash'>here</a> for more info. \n",
      "\u001b[1;31mView Jupyter <a href='command:jupyter.viewOutput'>log</a> for further details."
     ]
    }
   ],
   "source": [
    "#compare your GPU to CPU given that prvious test pased\n",
    "# GPU testing\n",
    "benchmark('/GPU:0',n_iterations=100 , matrix_size=10000)\n",
    "# CPU testing \n",
    "benchmark('/CPU:0')"
   ]
  },
  {
   "cell_type": "code",
   "execution_count": null,
   "metadata": {},
   "outputs": [],
   "source": []
  }
 ],
 "metadata": {
  "kernelspec": {
   "display_name": "OCR-env",
   "language": "python",
   "name": "python3"
  },
  "language_info": {
   "codemirror_mode": {
    "name": "ipython",
    "version": 3
   },
   "file_extension": ".py",
   "mimetype": "text/x-python",
   "name": "python",
   "nbconvert_exporter": "python",
   "pygments_lexer": "ipython3",
   "version": "3.9.19"
  }
 },
 "nbformat": 4,
 "nbformat_minor": 2
}
