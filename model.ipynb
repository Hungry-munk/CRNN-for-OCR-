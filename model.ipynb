{
 "cells": [
  {
   "cell_type": "code",
   "execution_count": 1,
   "metadata": {},
   "outputs": [],
   "source": [
    "import numpy as np\n",
    "import tensorflow as tf\n",
    "from tensorflow.keras import mixed_precision\n",
    "from tensorflow.keras.optimizers import Adam\n",
    "from tensorflow.keras.callbacks import ModelCheckpoint, EarlyStopping,  ReduceLROnPlateau,  TensorBoard\n",
    "from tensorflow.keras.models import load_model\n",
    "import tensorflow.keras.backend as K\n",
    "from model_funcs import character_error_rate, word_error_rate, ctc_loss_func, build_CRNN_model, ctc_decoder\n",
    "from data_processing import create_datasets, batch_generator\n",
    "from tester_functions import inpute_batch_displayer, display_single_image\n",
    "from configs import Configs \n",
    "import datetime\n"
   ]
  },
  {
   "cell_type": "code",
   "execution_count": 2,
   "metadata": {},
   "outputs": [
    {
     "name": "stdout",
     "output_type": "stream",
     "text": [
      "INFO:tensorflow:Mixed precision compatibility check (mixed_float16): OK\n",
      "Your GPU will likely run quickly with dtype policy mixed_float16 as it has compute capability of at least 7.0. Your GPU: NVIDIA GeForce RTX 2070 SUPER, compute capability 7.5\n"
     ]
    }
   ],
   "source": [
    "# empty out VRAM if being used for some reason\n",
    "K.clear_session()\n",
    "# allow for mixed prcision compute for more effienct compute\n",
    "policy = mixed_precision.Policy('mixed_float16')\n",
    "mixed_precision.set_global_policy(policy)\n",
    "# enable GPU dynamic VRAM allocation \n",
    "gpus = tf.config.experimental.list_physical_devices('GPU')\n",
    "if gpus:\n",
    "    try:\n",
    "        for gpu in gpus:\n",
    "            tf.config.experimental.set_memory_growth(gpu, True)\n",
    "    except RuntimeError as e:\n",
    "        print(e)\n"
   ]
  },
  {
   "cell_type": "code",
   "execution_count": 3,
   "metadata": {},
   "outputs": [],
   "source": [
    "# Cell for creating tensorflow datasets to allow for variable images and ground truth labels\n",
    "c = Configs()\n",
    "# get complete dataset\n",
    "batch_size = c.batch_size\n",
    "batch_size = 5\n",
    "# amount of data to shuffle\n",
    "buffer_size = c.buffer_size\n",
    "total_dataset = create_datasets(c.image_paths, c.label_path, batch_size, c.image_height, c.image_max_width, c.augmentation_probability, c.cv_add_data)\n",
    "# total_dataset = total_dataset.shuffle(buffer_size=buffer_size)\n",
    "# get indivdual batches\n",
    "training_datasets = total_dataset.map(lambda train, cv:train)\n",
    "cv_datasets = total_dataset.map(lambda train, cv: cv)\n"
   ]
  },
  {
   "cell_type": "code",
   "execution_count": 4,
   "metadata": {},
   "outputs": [
    {
     "name": "stdout",
     "output_type": "stream",
     "text": [
      "Model: \"model\"\n",
      "_________________________________________________________________\n",
      " Layer (type)                Output Shape              Param #   \n",
      "=================================================================\n",
      " input_1 (InputLayer)        [(None, 512, None, 1)]    0         \n",
      "                                                                 \n",
      " conv1 (Conv2D)              (None, 512, None, 64)     1664      \n",
      "                                                                 \n",
      " batch_normalization (BatchN  (None, 512, None, 64)    256       \n",
      " ormalization)                                                   \n",
      "                                                                 \n",
      " activation (Activation)     (None, 512, None, 64)     0         \n",
      "                                                                 \n",
      " max1 (MaxPooling2D)         (None, 256, None, 64)     0         \n",
      "                                                                 \n",
      " conv2 (Conv2D)              (None, 256, None, 128)    131200    \n",
      "                                                                 \n",
      " batch_normalization_1 (Batc  (None, 256, None, 128)   512       \n",
      " hNormalization)                                                 \n",
      "                                                                 \n",
      " activation_1 (Activation)   (None, 256, None, 128)    0         \n",
      "                                                                 \n",
      " max2 (MaxPooling2D)         (None, 128, None, 128)    0         \n",
      "                                                                 \n",
      " conv3 (Conv2D)              (None, 128, None, 256)    295168    \n",
      "                                                                 \n",
      " batch_normalization_2 (Batc  (None, 128, None, 256)   1024      \n",
      " hNormalization)                                                 \n",
      "                                                                 \n",
      " activation_2 (Activation)   (None, 128, None, 256)    0         \n",
      "                                                                 \n",
      " max3 (MaxPooling2D)         (None, 128, None, 256)    0         \n",
      "                                                                 \n",
      " conv4 (Conv2D)              (None, 128, None, 512)    1180160   \n",
      "                                                                 \n",
      " batch_normalization_3 (Batc  (None, 128, None, 512)   2048      \n",
      " hNormalization)                                                 \n",
      "                                                                 \n",
      " activation_3 (Activation)   (None, 128, None, 512)    0         \n",
      "                                                                 \n",
      " max4 (MaxPooling2D)         (None, 128, None, 512)    0         \n",
      "                                                                 \n",
      " dropout (Dropout)           (None, 128, None, 512)    0         \n",
      "                                                                 \n",
      " lambda (Lambda)             (None, None, 65536)       0         \n",
      "                                                                 \n",
      " dense (Dense)               (None, None, 128)         8388736   \n",
      "                                                                 \n",
      " bidirectional (Bidirectiona  (None, None, 512)        788480    \n",
      " l)                                                              \n",
      "                                                                 \n",
      " dropout_1 (Dropout)         (None, None, 512)         0         \n",
      "                                                                 \n",
      " bidirectional_1 (Bidirectio  (None, None, 256)        656384    \n",
      " nal)                                                            \n",
      "                                                                 \n",
      " dense_1 (Dense)             (None, None, 80)          20560     \n",
      "                                                                 \n",
      "=================================================================\n",
      "Total params: 11,466,192\n",
      "Trainable params: 11,464,272\n",
      "Non-trainable params: 1,920\n",
      "_________________________________________________________________\n"
     ]
    }
   ],
   "source": [
    "# load in model and get it ready for training\n",
    "activation = c.activation_function\n",
    "model = build_CRNN_model((c.image_height, None, 1), c.num_classes, activation)\n",
    "model.summary()\n",
    "learn_rate = c.learning_rate\n",
    "# define the model optimizer, loss function and metrics we want to track\n",
    "model.compile(optimizer=Adam(learning_rate=learn_rate, clipnorm = 1.0),\n",
    "              loss=ctc_loss_func,\n",
    "            #   metrics=[character_error_rate, word_error_rate])\n",
    "              metrics = [])\n",
    "\n",
    "# Callbacks for selecting the best model and early stopping if more training does nothing \n",
    "checkpoint = ModelCheckpoint('OCR model', monitor='val_loss', save_best_only=True, verbose=1)\n",
    "early_stopping = EarlyStopping(monitor='val_loss', patience=5, restore_best_weights=True, verbose=1)\n",
    "reduce_lr = ReduceLROnPlateau(monitor='val_loss', factor=0.2, patience=3, min_lr=1e-6)\n",
    "log_dir = \"logs/fit/\" + datetime.datetime.now().strftime(\"%Y%m%d-%H%M%S\")\n",
    "tensorboard_callback = TensorBoard(log_dir=log_dir, histogram_freq=1)\n",
    "\n",
    "callbacks = [\n",
    "    checkpoint,\n",
    "    early_stopping,\n",
    "    reduce_lr,\n",
    "    tensorboard_callback\n",
    "]"
   ]
  },
  {
   "cell_type": "code",
   "execution_count": 5,
   "metadata": {},
   "outputs": [
    {
     "name": "stdout",
     "output_type": "stream",
     "text": [
      "Epoch 1/150\n",
      "WARNING:tensorflow:5 out of the last 5 calls to <function pfor.<locals>.f at 0x00000288FFBDA4C0> triggered tf.function retracing. Tracing is expensive and the excessive number of tracings could be due to (1) creating @tf.function repeatedly in a loop, (2) passing tensors with different shapes, (3) passing Python objects instead of tensors. For (1), please define your @tf.function outside of the loop. For (2), @tf.function has reduce_retracing=True option that can avoid unnecessary retracing. For (3), please refer to https://www.tensorflow.org/guide/function#controlling_retracing and https://www.tensorflow.org/api_docs/python/tf/function for  more details.\n",
      "WARNING:tensorflow:6 out of the last 6 calls to <function pfor.<locals>.f at 0x00000288FFBDA4C0> triggered tf.function retracing. Tracing is expensive and the excessive number of tracings could be due to (1) creating @tf.function repeatedly in a loop, (2) passing tensors with different shapes, (3) passing Python objects instead of tensors. For (1), please define your @tf.function outside of the loop. For (2), @tf.function has reduce_retracing=True option that can avoid unnecessary retracing. For (3), please refer to https://www.tensorflow.org/guide/function#controlling_retracing and https://www.tensorflow.org/api_docs/python/tf/function for  more details.\n",
      "    219/Unknown - 229s 872ms/step - loss: 177.4962"
     ]
    }
   ],
   "source": [
    "# number of epochs for training \n",
    "epochs = c.epoch_num \n",
    "# epochs = 1\n",
    "model = model.fit(\n",
    "    training_datasets,\n",
    "    epochs=epochs,\n",
    "    validation_data=cv_datasets,\n",
    "    callbacks=callbacks,\n",
    "    verbose=1\n",
    ")"
   ]
  },
  {
   "cell_type": "code",
   "execution_count": null,
   "metadata": {},
   "outputs": [],
   "source": [
    "# save the model to be able to import later\n",
    "model.save('OCR model')"
   ]
  }
 ],
 "metadata": {
  "kernelspec": {
   "display_name": "Python 3",
   "language": "python",
   "name": "python3"
  },
  "language_info": {
   "codemirror_mode": {
    "name": "ipython",
    "version": 3
   },
   "file_extension": ".py",
   "mimetype": "text/x-python",
   "name": "python",
   "nbconvert_exporter": "python",
   "pygments_lexer": "ipython3",
   "version": "3.9.19"
  }
 },
 "nbformat": 4,
 "nbformat_minor": 2
}
