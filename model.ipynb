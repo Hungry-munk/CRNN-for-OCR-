{
 "cells": [
  {
   "cell_type": "code",
   "execution_count": 1,
   "metadata": {},
   "outputs": [],
   "source": [
    "import numpy as np\n",
    "import tensorflow as tf\n",
    "from tensorflow.keras import mixed_precision\n",
    "from tensorflow.keras.optimizers import Adam\n",
    "from tensorflow.keras.callbacks import ModelCheckpoint, EarlyStopping,  ReduceLROnPlateau,  TensorBoard\n",
    "from tensorflow.keras.models import load_model\n",
    "import tensorflow.keras.backend as K\n",
    "from model_funcs import character_error_rate, word_error_rate, CTCLoss2, build_CRNN_model,ctc_decoder\n",
    "from data_processing import create_datasets, batch_generator\n",
    "from tester_functions import inpute_batch_displayer, display_single_image\n",
    "from configs import Configs \n",
    "import datetime\n"
   ]
  },
  {
   "cell_type": "code",
   "execution_count": null,
   "metadata": {},
   "outputs": [],
   "source": [
    "# empty out VRAM if being used for some reason\n",
    "K.clear_session()\n",
    "# allow for mixed prcision compute for more effienct compute\n",
    "policy = mixed_precision.Policy('mixed_float16')\n",
    "mixed_precision.set_global_policy(policy)\n",
    "# enable GPU dynamic VRAM allocation \n",
    "gpus = tf.config.experimental.list_physical_devices('GPU')\n",
    "if gpus:\n",
    "    try:\n",
    "        for gpu in gpus:\n",
    "            tf.config.experimental.set_memory_growth(gpu, True)\n",
    "    except RuntimeError as e:\n",
    "        print(e)\n"
   ]
  },
  {
   "cell_type": "code",
   "execution_count": 3,
   "metadata": {},
   "outputs": [],
   "source": [
    "# Cell for creating tensorflow datasets to allow for variable images and ground truth labels\n",
    "c = Configs()\n",
    "# get complete dataset\n",
    "batch_size = c.batch_size\n",
    "# batch_size = 5\n",
    "# amount of data to shuffle\n",
    "buffer_size = c.buffer_size\n",
    "total_dataset = create_datasets(c.image_paths, c.label_path, batch_size, c.image_height, c.image_max_width, c.augmentation_probability, c.cv_add_data)\n",
    "# total_dataset = total_dataset.shuffle(buffer_size=buffer_size)\n",
    "# get indivdual batches\n",
    "training_datasets = total_dataset.map(lambda train, cv:train)\n",
    "cv_datasets = total_dataset.map(lambda train, cv: cv)\n"
   ]
  },
  {
   "cell_type": "code",
   "execution_count": 4,
   "metadata": {},
   "outputs": [],
   "source": [
    "# # test data set works\n",
    "# for x, y in training_datasets.take(2):\n",
    "#     for x ,y in zip(x,y):\n",
    "#         tf.print(ctc_decoder(y))\n",
    "#         tf.print(len(y))\n",
    "#         tf.print(tf.shape(x))\n",
    "#         tf.print(tf.reduce_max(x), tf.reduce_min(x))\n",
    "#         display_single_image(x)"
   ]
  },
  {
   "cell_type": "code",
   "execution_count": 5,
   "metadata": {},
   "outputs": [],
   "source": [
    "# Function to test a dataset\n",
    "def test_dataset_seq_len(dataset, name):\n",
    "    lengths = []\n",
    "    for i, (x, y) in enumerate(dataset):\n",
    "        # Print shapes and data types for debugging\n",
    "        print(f\"Testing {name} - Sample {i}:\")\n",
    "        print(\"Shape of x:\", x.shape)\n",
    "        print(\"Shape of y:\", y.shape)\n",
    "        print(\"Data type of x:\", x.dtype)\n",
    "        print(\"Data type of y:\", y.dtype)\n",
    "        \n",
    "        # Calculate lengths of ground truth labels (y_true)\n",
    "        true_lengths = tf.reduce_sum(tf.cast(tf.not_equal(y, c.seq_pad_val), dtype=tf.int32), axis=-1)\n",
    "        max_lengths = tf.reduce_max(true_lengths)\n",
    "        lengths.append(max_lengths)\n",
    "        tf.print(\"Max length in this batch:\", max_lengths, summarize=-1)\n",
    "\n",
    "    # Print longest sequence for this dataset\n",
    "    print(f'Longest sequence in {name}:', tf.reduce_max(lengths))\n",
    "\n",
    "# Test training datasets: is 87\n",
    "# test_dataset_seq_len(training_datasets, \"Training Dataset\")\n",
    "\n",
    "# Test cross-validation datasets: is 75\n",
    "# test_dataset_seq_len(cv_datasets, \"Cross-Validation Dataset\")"
   ]
  },
  {
   "cell_type": "code",
   "execution_count": null,
   "metadata": {},
   "outputs": [],
   "source": [
    "# load in model and get it ready for training\n",
    "activation = c.activation_function\n",
    "image_height = c.image_height\n",
    "# image_height = 275\n",
    "model = build_CRNN_model((image_height, None, 1), c.num_classes, activation)\n",
    "# model = build_multi_branch_CRNN((c.image_height, None, 1), c.num_classes, activation)\n",
    "model.summary()\n",
    "learn_rate = c.learning_rate\n",
    "# define the model optimizer, loss function and metrics we want to track\n",
    "model.compile(optimizer=Adam(learning_rate=learn_rate, clipnorm = 1.0),\n",
    "            #   loss=CTCLoss(blank_index=c.blank_index, seq_pad_val=c.seq_pad_val),\n",
    "              loss=CTCLoss2( seq_pad_val=c.seq_pad_val),\n",
    "              metrics=[character_error_rate, word_error_rate])\n",
    "              # metrics = [])\n",
    "\n",
    "# Callbacks for selecting the best model and early stopping if more training does nothing \n",
    "checkpoint = ModelCheckpoint('OCR model', monitor='val_loss', save_best_only=True, verbose=1)\n",
    "early_stopping = EarlyStopping(monitor='val_loss', patience=10, restore_best_weights=True, verbose=1)\n",
    "reduce_lr = ReduceLROnPlateau(monitor='val_loss', factor=0.2, patience=5, min_lr=1e-6)\n",
    "log_dir = \"logs/fit/\" + datetime.datetime.now().strftime(\"%Y%m%d-%H%M%S\")\n",
    "tensorboard_callback = TensorBoard(log_dir=log_dir, histogram_freq=1)\n",
    "\n",
    "callbacks = [\n",
    "    checkpoint,\n",
    "    early_stopping,\n",
    "    reduce_lr,\n",
    "    tensorboard_callback\n",
    "]"
   ]
  },
  {
   "cell_type": "code",
   "execution_count": null,
   "metadata": {},
   "outputs": [],
   "source": [
    "# number of epochs for training \n",
    "epochs = c.epoch_num \n",
    "# epochs = 1\n",
    "model = model.fit(\n",
    "    training_datasets,\n",
    "    epochs=epochs,\n",
    "    validation_data=cv_datasets,\n",
    "    callbacks=callbacks,\n",
    "    verbose=1\n",
    ")"
   ]
  },
  {
   "cell_type": "code",
   "execution_count": null,
   "metadata": {},
   "outputs": [],
   "source": [
    "# save the model to be able to import later\n",
    "model.save('OCR model')"
   ]
  }
 ],
 "metadata": {
  "kernelspec": {
   "display_name": "OCR-env",
   "language": "python",
   "name": "python3"
  },
  "language_info": {
   "codemirror_mode": {
    "name": "ipython",
    "version": 3
   },
   "file_extension": ".py",
   "mimetype": "text/x-python",
   "name": "python",
   "nbconvert_exporter": "python",
   "pygments_lexer": "ipython3",
   "version": "3.9.19"
  }
 },
 "nbformat": 4,
 "nbformat_minor": 2
}
