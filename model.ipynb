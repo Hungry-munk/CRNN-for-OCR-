{
 "cells": [
  {
   "cell_type": "code",
   "execution_count": 1,
   "metadata": {},
   "outputs": [],
   "source": [
    "import numpy as np\n",
    "import tensorflow as tf\n",
    "# TODO import necessary keras stuff\n",
    "from configs import Configs \n",
    "from data_processing import data_preparator\n",
    "%run \"tester_functions.ipynb\""
   ]
  },
  {
   "cell_type": "code",
   "execution_count": null,
   "metadata": {},
   "outputs": [],
   "source": [
    "c = Configs()\n",
    "# retrive precessed data that can be used for training \n",
    "X, Y = data_preparator(c.image_paths, c.label_path, image_target_height = c.image_height, image_target_width = c.image_width, batch_size = c.batch_size, augmentation_probability = c.augmentation_probability )\n",
    "# scramble arraies but keep corresponding indecies\n",
    "# Generate a random permutation of indices\n",
    "shuffled_indices = np.random.permutation(c.batch_size)\n",
    "X = X[shuffled_indices]\n",
    "Y = Y[shuffled_indices]\n",
    "# split data set into training, cross validation and test sets\n",
    "# training sets split \n",
    "train_split = int(0.75 * c.batch_size)\n",
    "X_train = X[:train_split]\n",
    "Y_train = Y[:train_split]\n",
    "# Cross validation sets\n",
    "CV_test_split = int(0.125 * c.batch_size)\n",
    "X_cv = X[train_split: train_split + CV_test_split]\n",
    "Y_cv = Y[train_split: train_split + CV_test_split]\n",
    "# testing sets\n",
    "X_test = X[train_split + CV_test_split:]\n",
    "Y_test = Y[train_split + CV_test_split:]\n",
    "\n",
    "print(X_train.shape)\n",
    "print(X_cv.shape)\n",
    "print(X_test.shape)\n",
    "\n",
    "print(len(X_test) + len(X_cv) + len(X_train))\n",
    "print(c.batch_size)"
   ]
  },
  {
   "cell_type": "code",
   "execution_count": null,
   "metadata": {},
   "outputs": [],
   "source": [
    "inpute_batch_displayer(X)"
   ]
  }
 ],
 "metadata": {
  "kernelspec": {
   "display_name": "Python 3",
   "language": "python",
   "name": "python3"
  },
  "language_info": {
   "codemirror_mode": {
    "name": "ipython",
    "version": 3
   },
   "file_extension": ".py",
   "mimetype": "text/x-python",
   "name": "python",
   "nbconvert_exporter": "python",
   "pygments_lexer": "ipython3",
   "version": "3.9.19"
  }
 },
 "nbformat": 4,
 "nbformat_minor": 2
}
