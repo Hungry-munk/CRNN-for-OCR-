{
 "cells": [
  {
   "cell_type": "code",
   "execution_count": 1,
   "metadata": {},
   "outputs": [],
   "source": [
    "import numpy as np\n",
    "import tensorflow as tf\n",
    "from tensorflow.keras import mixed_precision\n",
    "from tensorflow.keras.optimizers import Adam\n",
    "from tensorflow.keras.callbacks import ModelCheckpoint, EarlyStopping\n",
    "from tensorflow.keras.models import load_model\n",
    "import tensorflow.keras.backend as K\n",
    "from model_funcs import character_error_rate, word_error_rate, ctc_loss_lambda_func, build_CRNN_model\n",
    "from data_processing import create_datasets, batch_generator\n",
    "from configs import Configs \n",
    "%run \"tester_functions.ipynb\""
   ]
  },
  {
   "cell_type": "code",
   "execution_count": 2,
   "metadata": {},
   "outputs": [
    {
     "name": "stdout",
     "output_type": "stream",
     "text": [
      "INFO:tensorflow:Mixed precision compatibility check (mixed_float16): OK\n",
      "Your GPU will likely run quickly with dtype policy mixed_float16 as it has compute capability of at least 7.0. Your GPU: NVIDIA GeForce RTX 2070 SUPER, compute capability 7.5\n"
     ]
    }
   ],
   "source": [
    "# empty out VRAM if being used for some reason\n",
    "K.clear_session()\n",
    "# allow for mixed prcision compute for more effienct compute\n",
    "policy = mixed_precision.Policy('mixed_float16')\n",
    "mixed_precision.set_global_policy(policy)\n",
    "# enable GPU dynamic VRAM allocation \n",
    "gpus = tf.config.experimental.list_physical_devices('GPU')\n",
    "if gpus:\n",
    "    try:\n",
    "        for gpu in gpus:\n",
    "            tf.config.experimental.set_memory_growth(gpu, True)\n",
    "    except RuntimeError as e:\n",
    "        print(e)\n"
   ]
  },
  {
   "cell_type": "code",
   "execution_count": 3,
   "metadata": {},
   "outputs": [],
   "source": [
    "# Cell for creating tensorflow datasets to allow for variable images and ground truth labels\n",
    "c = Configs()\n",
    "# get complete dataset\n",
    "batch_size = c.batch_size\n",
    "# amount of data to shuffle\n",
    "buffer_size = c.buffer_size\n",
    "total_dataset = create_datasets(c.image_paths, c.label_path, batch_size, c.image_height, c.image_max_width, c.augmentation_probability, c.cv_add_data)\n",
    "total_dataset = total_dataset.shuffle(buffer_size=buffer_size)\n",
    "# get indivdual batches\n",
    "training_datasets = total_dataset.map(lambda train, cv:train)\n",
    "cv_datasets = total_dataset.map(lambda train, cv: cv)\n"
   ]
  },
  {
   "cell_type": "code",
   "execution_count": 4,
   "metadata": {},
   "outputs": [
    {
     "name": "stdout",
     "output_type": "stream",
     "text": [
      "Model: \"model\"\n",
      "_________________________________________________________________\n",
      " Layer (type)                Output Shape              Param #   \n",
      "=================================================================\n",
      " input_1 (InputLayer)        [(None, 256, None, 1)]    0         \n",
      "                                                                 \n",
      " conv1 (Conv2D)              (None, 256, None, 64)     640       \n",
      "                                                                 \n",
      " batch_normalization (BatchN  (None, 256, None, 64)    256       \n",
      " ormalization)                                                   \n",
      "                                                                 \n",
      " activation (Activation)     (None, 256, None, 64)     0         \n",
      "                                                                 \n",
      " max1 (MaxPooling2D)         (None, 256, None, 64)     0         \n",
      "                                                                 \n",
      " conv2 (Conv2D)              (None, 256, None, 128)    73856     \n",
      "                                                                 \n",
      " batch_normalization_1 (Batc  (None, 256, None, 128)   512       \n",
      " hNormalization)                                                 \n",
      "                                                                 \n",
      " activation_1 (Activation)   (None, 256, None, 128)    0         \n",
      "                                                                 \n",
      " max2 (MaxPooling2D)         (None, 256, None, 128)    0         \n",
      "                                                                 \n",
      " conv3 (Conv2D)              (None, 256, None, 256)    295168    \n",
      "                                                                 \n",
      " batch_normalization_2 (Batc  (None, 256, None, 256)   1024      \n",
      " hNormalization)                                                 \n",
      "                                                                 \n",
      " activation_2 (Activation)   (None, 256, None, 256)    0         \n",
      "                                                                 \n",
      " max3 (MaxPooling2D)         (None, 256, None, 256)    0         \n",
      "                                                                 \n",
      " conv4 (Conv2D)              (None, 256, None, 512)    1180160   \n",
      "                                                                 \n",
      " batch_normalization_3 (Batc  (None, 256, None, 512)   2048      \n",
      " hNormalization)                                                 \n",
      "                                                                 \n",
      " activation_3 (Activation)   (None, 256, None, 512)    0         \n",
      "                                                                 \n",
      " max4 (MaxPooling2D)         (None, 256, None, 512)    0         \n",
      "                                                                 \n",
      " dropout (Dropout)           (None, 256, None, 512)    0         \n",
      "                                                                 \n",
      " lambda (Lambda)             (None, None, 131072)      0         \n",
      "                                                                 \n",
      " dense (Dense)               (None, None, 256)         33554688  \n",
      "                                                                 \n",
      " bidirectional (Bidirectiona  (None, None, 1024)       3149824   \n",
      " l)                                                              \n",
      "                                                                 \n",
      " dropout_1 (Dropout)         (None, None, 1024)        0         \n",
      "                                                                 \n",
      " bidirectional_1 (Bidirectio  (None, None, 1024)       6295552   \n",
      " nal)                                                            \n",
      "                                                                 \n",
      " dense_1 (Dense)             (None, None, 80)          82000     \n",
      "                                                                 \n",
      "=================================================================\n",
      "Total params: 44,635,728\n",
      "Trainable params: 44,633,808\n",
      "Non-trainable params: 1,920\n",
      "_________________________________________________________________\n"
     ]
    }
   ],
   "source": [
    "# load in model and get it ready for training\n",
    "model = build_CRNN_model((c.image_height, None, 1), c.num_classes)\n",
    "model.summary()\n",
    "learn_rate = c.learning_rate\n",
    "# define the model optimizer, loss function and metrics we want to track\n",
    "model.compile(optimizer=Adam(learning_rate=learn_rate),\n",
    "              loss=ctc_loss_lambda_func,\n",
    "              # metrics=[character_error_rate, word_error_rate])\n",
    "              metrics = [])\n",
    "\n",
    "# Callbacks for selecting the best model and early stopping if more training does nothing \n",
    "checkpoint = ModelCheckpoint('OCR model', monitor='val_loss', save_best_only=True, verbose=1)\n",
    "early_stopping = EarlyStopping(monitor='val_loss', patience=5, restore_best_weights=True, verbose=1)"
   ]
  },
  {
   "cell_type": "code",
   "execution_count": 5,
   "metadata": {},
   "outputs": [
    {
     "name": "stdout",
     "output_type": "stream",
     "text": [
      "Epoch 1/100\n"
     ]
    }
   ],
   "source": [
    "# number of epochs for training \n",
    "epochs = c.epoch_num \n",
    "# epochs = 1\n",
    "model = model.fit(\n",
    "    training_datasets,\n",
    "    epochs=epochs,\n",
    "    validation_data=cv_datasets,\n",
    "    callbacks=[checkpoint, early_stopping],\n",
    "    verbose=1\n",
    ")"
   ]
  },
  {
   "cell_type": "code",
   "execution_count": null,
   "metadata": {},
   "outputs": [],
   "source": [
    "# save the model to be able to import later\n",
    "model.save('OCR model')"
   ]
  }
 ],
 "metadata": {
  "kernelspec": {
   "display_name": "Python 3",
   "language": "python",
   "name": "python3"
  },
  "language_info": {
   "codemirror_mode": {
    "name": "ipython",
    "version": 3
   },
   "file_extension": ".py",
   "mimetype": "text/x-python",
   "name": "python",
   "nbconvert_exporter": "python",
   "pygments_lexer": "ipython3",
   "version": "3.9.19"
  }
 },
 "nbformat": 4,
 "nbformat_minor": 2
}
