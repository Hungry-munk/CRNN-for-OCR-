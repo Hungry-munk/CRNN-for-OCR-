{
 "cells": [
  {
   "cell_type": "code",
   "execution_count": 1,
   "metadata": {},
   "outputs": [],
   "source": [
    "import numpy as np\n",
    "import tensorflow as tf\n",
    "from tensorflow.keras.optimizers import Adam\n",
    "from tensorflow.keras.layers import Bidirectional, LSTM, Dense, Conv2D, MaxPooling2D, Dropout, Lambda\n",
    "from tensorflow.keras.layers import Input, Activation, BatchNormalization, Reshape\n",
    "from tensorflow.keras.models import load_model, Model\n",
    "import tensorflow.keras.backend as K\n",
    "from configs import Configs \n",
    "from data_processing import data_preparator, create_dataset\n",
    "%run \"tester_functions.ipynb\""
   ]
  },
  {
   "cell_type": "code",
   "execution_count": 2,
   "metadata": {},
   "outputs": [],
   "source": [
    "# all for GPU dynamic VRAM allocation \n",
    "gpus = tf.config.experimental.list_physical_devices('GPU')\n",
    "if gpus:\n",
    "    try:\n",
    "        for gpu in gpus:\n",
    "            tf.config.experimental.set_memory_growth(gpu, True)\n",
    "    except RuntimeError as e:\n",
    "        print(e)\n"
   ]
  },
  {
   "cell_type": "code",
   "execution_count": 3,
   "metadata": {},
   "outputs": [],
   "source": [
    "# CTC loss function\n",
    "def ctc_loss_lambda_func(y_true, y_pred):\n",
    "    input_length = K.ones_like(y_pred[:, 0, 0]) * (K.int_shape(y_pred)[1])\n",
    "    label_length = K.sum(K.cast(K.not_equal(y_true, -1), 'int32'), axis=-1)\n",
    "    return K.ctc_batch_cost(y_true, y_pred, input_length, label_length)"
   ]
  },
  {
   "cell_type": "code",
   "execution_count": 4,
   "metadata": {},
   "outputs": [],
   "source": [
    "def f_map_to_seq(f_map):\n",
    "    # Get dynamic shape\n",
    "    shape = tf.shape(f_map)  # Use dynamic shape to handle None dimensions\n",
    "    batch_size, height, width, channels = shape[0], shape[1], shape[2], shape[3]\n",
    "    \n",
    "    # Reshape into (batch_size, timesteps, features)\n",
    "    sequence = tf.reshape(f_map, (batch_size, width, height * channels))\n",
    "    \n",
    "    return sequence\n"
   ]
  },
  {
   "cell_type": "code",
   "execution_count": 9,
   "metadata": {},
   "outputs": [],
   "source": [
    "def build_CRNN_model(input_shape, num_classes):\n",
    "    inputs = Input(shape=input_shape)\n",
    "    \n",
    "    # CNN layers\n",
    "    f_maps = Conv2D(64, (3, 3), padding='same', name='conv1', kernel_initializer='he_normal')(inputs)\n",
    "    f_maps = BatchNormalization()(f_maps)\n",
    "    f_maps = Activation('relu')(f_maps)\n",
    "    f_maps = MaxPooling2D(pool_size=(1, 2), name='max1')(f_maps) # maintain vertical information\n",
    "    \n",
    "    f_maps = Conv2D(128, (3, 3), padding='same', name='conv2', kernel_initializer='he_normal')(f_maps)\n",
    "    f_maps = BatchNormalization()(f_maps)\n",
    "    f_maps = Activation('relu')(f_maps)\n",
    "    f_maps = MaxPooling2D(pool_size=(1, 2), name='max2')(f_maps)\n",
    "    \n",
    "    f_maps = Conv2D(256, (3, 3), padding='same', name='conv3', kernel_initializer='he_normal')(f_maps)\n",
    "    f_maps = BatchNormalization()(f_maps)\n",
    "    f_maps = Activation('relu')(f_maps)\n",
    "    f_maps = MaxPooling2D(pool_size=(1, 2), name='max3')(f_maps)\n",
    "    \n",
    "    f_maps = Conv2D(512, (3, 3), padding='same', name='conv4', kernel_initializer='he_normal')(f_maps)\n",
    "    f_maps = BatchNormalization()(f_maps)\n",
    "    f_maps = Activation('relu')(f_maps)\n",
    "    f_maps = MaxPooling2D(pool_size=(1, 2), name='max4')(f_maps)\n",
    "\n",
    "    # Dropout\n",
    "    f_maps = Dropout(0.3)(f_maps)\n",
    "\n",
    "    # CNN to RNN transition: convert the feature maps into sequences\n",
    "    sequence = Lambda(f_map_to_seq)(f_maps)\n",
    "\n",
    "    # RNN layers (Bidirectional LSTMs)\n",
    "    sequence = Bidirectional(LSTM(256, return_sequences=True, kernel_initializer='glorot_uniform'))(sequence)\n",
    "    sequence = Dropout(0.3)(sequence)\n",
    "    sequence = Bidirectional(LSTM(256, return_sequences=True, kernel_initializer='glorot_uniform'))(sequence)\n",
    "\n",
    "    # Dense layer with softmax activation for classification\n",
    "    outputs = Dense(num_classes, activation='softmax')(sequence)\n",
    "\n",
    "    # Create and return model\n",
    "    model = Model(inputs=inputs, outputs=outputs)\n",
    "    return model\n"
   ]
  },
  {
   "cell_type": "code",
   "execution_count": 6,
   "metadata": {},
   "outputs": [],
   "source": [
    "c = Configs()\n",
    "data_size = 50\n",
    "# retrive precessed data that can be used for training \n",
    "X, Y = data_preparator(c.image_paths, c.label_path, image_target_height = c.image_height, data_size = data_size, augmentation_probability = c.augmentation_probability )\n",
    "\n",
    "train_split = int(0.85 * c.batch_size)\n",
    "X_train_split = X[:train_split]\n",
    "Y_train_split = Y[:train_split]\n",
    "# Cross validation sets\n",
    "CV_test_split = int(0.075 * c.batch_size)\n",
    "X_cv_split = X[train_split: train_split + CV_test_split]\n",
    "Y_cv_split = Y[train_split: train_split + CV_test_split]\n",
    "# testing sets\n",
    "X_test_split = X[train_split + CV_test_split:]\n",
    "Y_test_split = Y[train_split + CV_test_split:]"
   ]
  },
  {
   "cell_type": "code",
   "execution_count": 7,
   "metadata": {},
   "outputs": [],
   "source": [
    "# Cell for creating tensorflow datasets to allow for variable images nad ground truth labels\n",
    "batch_size = 32 #how many training examples should be in one batch\n",
    "train_dataset = create_dataset(X_train_split, Y_train_split, batch_size)\n",
    "# shuffle training dataset for as more random data during training will probs help...\n",
    "buffer_size = 2000\n",
    "train_dataset = train_dataset.shuffle(buffer_size=buffer_size)\n",
    "# create crossvalidation set\n",
    "cv_dataset = create_dataset(X_cv_split, Y_cv_split, batch_size)\n",
    "# create test set\n",
    "test_dataset = create_dataset(X_test_split, Y_test_split, batch_size)"
   ]
  },
  {
   "cell_type": "code",
   "execution_count": 10,
   "metadata": {},
   "outputs": [
    {
     "name": "stdout",
     "output_type": "stream",
     "text": [
      "Model: \"model_1\"\n",
      "_________________________________________________________________\n",
      " Layer (type)                Output Shape              Param #   \n",
      "=================================================================\n",
      " input_2 (InputLayer)        [(None, 256, None, 1)]    0         \n",
      "                                                                 \n",
      " conv1 (Conv2D)              (None, 256, None, 64)     640       \n",
      "                                                                 \n",
      " batch_normalization_4 (Batc  (None, 256, None, 64)    256       \n",
      " hNormalization)                                                 \n",
      "                                                                 \n",
      " activation_4 (Activation)   (None, 256, None, 64)     0         \n",
      "                                                                 \n",
      " max1 (MaxPooling2D)         (None, 256, None, 64)     0         \n",
      "                                                                 \n",
      " conv2 (Conv2D)              (None, 256, None, 128)    73856     \n",
      "                                                                 \n",
      " batch_normalization_5 (Batc  (None, 256, None, 128)   512       \n",
      " hNormalization)                                                 \n",
      "                                                                 \n",
      " activation_5 (Activation)   (None, 256, None, 128)    0         \n",
      "                                                                 \n",
      " max2 (MaxPooling2D)         (None, 256, None, 128)    0         \n",
      "                                                                 \n",
      " conv3 (Conv2D)              (None, 256, None, 256)    295168    \n",
      "                                                                 \n",
      " batch_normalization_6 (Batc  (None, 256, None, 256)   1024      \n",
      " hNormalization)                                                 \n",
      "                                                                 \n",
      " activation_6 (Activation)   (None, 256, None, 256)    0         \n",
      "                                                                 \n",
      " max3 (MaxPooling2D)         (None, 256, None, 256)    0         \n",
      "                                                                 \n",
      " conv4 (Conv2D)              (None, 256, None, 512)    1180160   \n",
      "                                                                 \n",
      " batch_normalization_7 (Batc  (None, 256, None, 512)   2048      \n",
      " hNormalization)                                                 \n",
      "                                                                 \n",
      " activation_7 (Activation)   (None, 256, None, 512)    0         \n",
      "                                                                 \n",
      " max4 (MaxPooling2D)         (None, 256, None, 512)    0         \n",
      "                                                                 \n",
      " dropout_2 (Dropout)         (None, 256, None, 512)    0         \n",
      "                                                                 \n",
      " lambda_1 (Lambda)           (None, None, 131072)      0         \n",
      "                                                                 \n",
      " bidirectional_2 (Bidirectio  (None, None, 512)        268961792 \n",
      " nal)                                                            \n",
      "                                                                 \n",
      " dropout_3 (Dropout)         (None, None, 512)         0         \n",
      "                                                                 \n",
      " bidirectional_3 (Bidirectio  (None, None, 512)        1574912   \n",
      " nal)                                                            \n",
      "                                                                 \n",
      " dense_1 (Dense)             (None, None, 78)          40014     \n",
      "                                                                 \n",
      "=================================================================\n",
      "Total params: 272,130,382\n",
      "Trainable params: 272,128,462\n",
      "Non-trainable params: 1,920\n",
      "_________________________________________________________________\n"
     ]
    }
   ],
   "source": [
    "model = build_CRNN_model((c.image_height, None, 1), c.num_classes)\n",
    "model.summary()"
   ]
  }
 ],
 "metadata": {
  "kernelspec": {
   "display_name": "Python 3",
   "language": "python",
   "name": "python3"
  },
  "language_info": {
   "codemirror_mode": {
    "name": "ipython",
    "version": 3
   },
   "file_extension": ".py",
   "mimetype": "text/x-python",
   "name": "python",
   "nbconvert_exporter": "python",
   "pygments_lexer": "ipython3",
   "version": "3.9.19"
  }
 },
 "nbformat": 4,
 "nbformat_minor": 2
}
