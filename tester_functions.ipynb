{
 "cells": [
  {
   "cell_type": "code",
   "execution_count": 1,
   "metadata": {},
   "outputs": [],
   "source": [
    "from configs import Configs\n",
    "import pathlib as pl\n",
    "import matplotlib.pyplot as plt"
   ]
  },
  {
   "cell_type": "code",
   "execution_count": 2,
   "metadata": {},
   "outputs": [],
   "source": [
    "# A function written to display a batch\n",
    "#I used it to ensure batch generator was working alongside the augmentor model\n",
    "def inpute_batch_displayer(batch):\n",
    "\n",
    "    num_images = len(batch)\n",
    "    cols = 5  # Adjust number of columns to fit your needs\n",
    "    rows = (num_images + cols - 1) // cols\n",
    "\n",
    "    fig, axes = plt.subplots(rows, cols, figsize=(15, rows * 3))\n",
    "    axes = axes.flatten()  # Flatten to easily index axes\n",
    "\n",
    "    for i in range(num_images):\n",
    "        ax = axes[i]\n",
    "        ax.imshow(batch[i], cmap='gray')\n",
    "        ax.axis('off')\n",
    "        # Add index label on top of each image\n",
    "        ax.text(0.5, 1.05, str(i), ha='center', va='center', transform=ax.transAxes, fontsize=12, bbox=dict(facecolor='white', alpha=0.7))\n",
    "\n",
    "    # Hide any empty subplots\n",
    "    for i in range(num_images, len(axes)):\n",
    "        axes[i].axis('off')\n",
    "\n",
    "    plt.tight_layout()\n",
    "    plt.show()\n"
   ]
  }
 ],
 "metadata": {
  "kernelspec": {
   "display_name": "OCR-env",
   "language": "python",
   "name": "python3"
  },
  "language_info": {
   "codemirror_mode": {
    "name": "ipython",
    "version": 3
   },
   "file_extension": ".py",
   "mimetype": "text/x-python",
   "name": "python",
   "nbconvert_exporter": "python",
   "pygments_lexer": "ipython3",
   "version": "3.9.19"
  }
 },
 "nbformat": 4,
 "nbformat_minor": 2
}
