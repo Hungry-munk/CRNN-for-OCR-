{
 "cells": [
  {
   "cell_type": "markdown",
   "metadata": {},
   "source": [
    "***importing packages and libraries***"
   ]
  },
  {
   "cell_type": "code",
   "execution_count": 1,
   "metadata": {},
   "outputs": [],
   "source": [
    "import numpy as np\n",
    "import tensorflow as tf\n",
    "from tensorflow.keras.layers import RandomBrightness, RandomContrast, RandomZoom\n",
    "import pathlib as pl\n",
    "import xml.etree.ElementTree as ET\n",
    "from configs import modelConfigs as c"
   ]
  },
  {
   "cell_type": "code",
   "execution_count": 2,
   "metadata": {},
   "outputs": [],
   "source": [
    "def pre_process_image(image_path, target_height):\n",
    "    # Load image\n",
    "    image = tf.io.read_file(image_path)\n",
    "    image = tf.image.decode_image(image, channels=1)  # Decode to grayscale\n",
    "    \n",
    "    # Convert image to float32 and normalize to [0, 1]\n",
    "    image = tf.image.convert_image_dtype(image, tf.float32)\n",
    "\n",
    "    shape = tf.shape(image)\n",
    "\n",
    "    # Convert to numpy array for shape\n",
    "    h, w, _ = shape.numpy()   \n",
    "    # h, w = shape[0], shape[1] #this line is probs works and is more computationally effiiecnient than the line above\n",
    "\n",
    "    # Calculate new width based on target height\n",
    "    aspect_ratio = tf.cast(w, tf.float32) / tf.cast(h, tf.float32)\n",
    "    new_width = tf.cast(target_height * aspect_ratio, tf.int32)\n",
    "\n",
    "    # Resize image\n",
    "    image_resized = tf.image.resize(image, [target_height, new_width])\n",
    "\n",
    "    return image_resized"
   ]
  },
  {
   "cell_type": "code",
   "execution_count": 3,
   "metadata": {},
   "outputs": [],
   "source": [
    "# a function to seperate the forms iamges computer text written parts from the hand written parts\n",
    "# important as label would need to be doubled to train both parts and other training complications\n",
    "# the name portion is also needs to be removed as their is not training data on the text\n",
    "def forms_text_seporator(form_path):\n",
    "    image = tf.io.read_file(form_path)\n",
    "    # handwritten part\n",
    "    HW_bouding_box = []\n",
    "    HW_part = tf.image.crop_and_resize([image], [], [0])\n",
    "    # computer text part\n",
    "    CT_bounding_box = []\n",
    "    CT_part = tf.image.crop_and_resize([image], [], [0])\n",
    "\n",
    "    \n",
    "    return CT_part, HW_part "
   ]
  },
  {
   "cell_type": "code",
   "execution_count": 4,
   "metadata": {},
   "outputs": [],
   "source": [
    "# TODO add more severe augmentations\n",
    "# TODO build a seperate augmentation model to add padding for cropped photos or incoroporate into this model\n",
    "def build_augmentation_model():\n",
    "    augmentation_model = tf.keras.Sequential([\n",
    "        RandomBrightness(factor=(-0.1, 0.1), value_range=(0, 1)),\n",
    "        RandomContrast(factor=0.05),\n",
    "        RandomZoom(height_factor=(-0.2, 0.2), width_factor=(-0.2, 0.2), fill_mode='constant', fill_value=1.0)     \n",
    "    ])\n",
    "    return augmentation_model\n"
   ]
  },
  {
   "cell_type": "code",
   "execution_count": 5,
   "metadata": {},
   "outputs": [],
   "source": [
    "# TODO check if this works \n",
    "def form_bounding_box_finder(form_path):\n",
    "    ..."
   ]
  },
  {
   "cell_type": "code",
   "execution_count": 14,
   "metadata": {},
   "outputs": [],
   "source": [
    "def data_preparator(X_image_paths, Y_image_path , data_length =1000 , image_target_height = 512, augmentation_probability = 0.3, data_split = (0.4, 0.6)):\n",
    "    # directory containing labels for training data\n",
    "    label_dir = pl.Path(Y_image_path)\n",
    "    # forms and lines paths\n",
    "    forms_pat = X_image_paths[0]\n",
    "    lines_path = X_image_paths[1]\n",
    "    # training example and label data X and Y\n",
    "    X = []\n",
    "    Y = []\n",
    "    # keep track of the number files are being added to the data batch\n",
    "    counter = 0\n",
    "    # data augmentor\n",
    "    augmentation_model = build_augmentation_model()\n",
    "\n",
    "    for XML_path in label_dir.iterdir():\n",
    "        if counter == data_length:\n",
    "            break\n",
    "        # get XML root element \n",
    "        root = ET.parse(str(XML_path)).getroot()\n",
    "        # a lines in the XML file\n",
    "        all_line_ele = root.find('handwritten-part')\n",
    "        lines = all_line_ele.findall('line')\n",
    "        # get bounding boxes feor handwritten part \n",
    "        # bouding box in the convention [y1, x1, y2, x2]\n",
    "        form_crop_bounding_box = [0] * 4\n",
    "\n",
    "        line_counter = 0\n",
    "        line_nums = len(lines) # the number of lines\n",
    "        # sub foilder for form that contains the lines for that form\n",
    "        subf_path = root.get('id')\n",
    "\n",
    "        # for lines\n",
    "        for line in lines:\n",
    "            #TODO figure out how to make int sequence label\n",
    "            _ = line.get('text')\n",
    "\n",
    "            # image path in the subfolder\n",
    "            image_subf_path = line.get('id')\n",
    "            # sulber folder name (is the first 3 chars)\n",
    "            subf_name = image_subf_path[:3]\n",
    "            \n",
    "            full_image_path = f'{lines_path}/{subf_name}/{subf_path}/{image_subf_path}'\n",
    "            #process the image \n",
    "            image = pre_process_image(full_image_path, image_target_height)\n",
    "            #randomly with a chosen probability augment\n",
    "            if np.random.rand() < augmentation_probability:\n",
    "                image = augmentation_model(image)\n",
    "            X.append(image)\n",
    "            counter += 1\n",
    "            # find X coords of the words\n",
    "            # TODO abstract his into a function to tidy up function \n",
    "            words = line.findall('word')\n",
    "            for word in words:\n",
    "                chars = word.finall('cmp')\n",
    "                for char in chars:\n",
    "                    # first x coord\n",
    "                    x_val = int(char.get('x'))\n",
    "                    if form_crop_bounding_box[1] == 0:\n",
    "                        form_crop_bounding_box[1] == x_val\n",
    "                    elif form_crop_bounding_box[1] > x_val:\n",
    "                        form_crop_bounding_box[1] = x_val\n",
    "                    #  second x coord \n",
    "                    if form_crop_bounding_box[3] == 0:\n",
    "                        form_crop_bounding_box[3] == x_val\n",
    "                    elif form_crop_bounding_box[3] < x_val:\n",
    "                        form_crop_bounding_box[3] = x_val\n",
    "                    # handling y coords cases\n",
    "                    y_val = int(char.get('y'))\n",
    "                    if line_counter == 0:\n",
    "                        if form_crop_bounding_box[0] == 0:\n",
    "                            form_crop_bounding_box[0] = y_val\n",
    "                        elif form_crop_bounding_box[0] > y_val:\n",
    "                            form_crop_bounding_box[0] = y_val\n",
    "                    elif line_counter == line_nums - 1:\n",
    "                        if form_crop_bounding_box[2] == 0:\n",
    "                            form_crop_bounding_box[2] = y_val\n",
    "                        elif form_crop_bounding_box[2] < y_val:\n",
    "                            form_crop_bounding_box[2] = y_val\n",
    "\n",
    "            line_counter += 1\n",
    "            \n",
    "\n",
    "        usefull_text_labe = root.find('machine-printed-part')\n",
    "        com_string = ''\n",
    "        for lines in usefull_text_labe.findall('machine-print-line'):\n",
    "            #add string togeather for complete sequence (obviously then convert into sequence data)\n",
    "            com_string += lines # TODO verfiy this works  \n",
    "            print(com_string)\n",
    "            print(form_crop_bounding_box)\n",
    "        \n",
    "\n",
    "\n",
    "\n",
    "    # return np.array(X), np.array(Y)\n",
    "\n"
   ]
  },
  {
   "cell_type": "code",
   "execution_count": 15,
   "metadata": {},
   "outputs": [
    {
     "ename": "NotFoundError",
     "evalue": "{{function_node __wrapped__ReadFile_device_/job:localhost/replica:0/task:0/device:CPU:0}} NewRandomAccessFile failed to Create/Open: ./data/handwritten lines\\a01\\a01-000u\\a01-000u-00 : The system cannot find the file specified.\r\n; No such file or directory [Op:ReadFile]",
     "output_type": "error",
     "traceback": [
      "\u001b[1;31m---------------------------------------------------------------------------\u001b[0m",
      "\u001b[1;31mNotFoundError\u001b[0m                             Traceback (most recent call last)",
      "Cell \u001b[1;32mIn[15], line 1\u001b[0m\n\u001b[1;32m----> 1\u001b[0m \u001b[43mdata_preparator\u001b[49m\u001b[43m(\u001b[49m\u001b[43mc\u001b[49m\u001b[43m(\u001b[49m\u001b[43m)\u001b[49m\u001b[38;5;241;43m.\u001b[39;49m\u001b[43mimage_paths\u001b[49m\u001b[43m,\u001b[49m\u001b[43m \u001b[49m\u001b[43mc\u001b[49m\u001b[43m(\u001b[49m\u001b[43m)\u001b[49m\u001b[38;5;241;43m.\u001b[39;49m\u001b[43mlabel_path\u001b[49m\u001b[43m,\u001b[49m\u001b[43m \u001b[49m\u001b[38;5;241;43m1\u001b[39;49m\u001b[43m \u001b[49m\u001b[43m)\u001b[49m\n",
      "Cell \u001b[1;32mIn[14], line 44\u001b[0m, in \u001b[0;36mdata_preparator\u001b[1;34m(X_image_paths, Y_image_path, data_length, image_target_height, augmentation_probability, data_split)\u001b[0m\n\u001b[0;32m     42\u001b[0m full_image_path \u001b[38;5;241m=\u001b[39m \u001b[38;5;124mf\u001b[39m\u001b[38;5;124m'\u001b[39m\u001b[38;5;132;01m{\u001b[39;00mlines_path\u001b[38;5;132;01m}\u001b[39;00m\u001b[38;5;124m\\\u001b[39m\u001b[38;5;132;01m{\u001b[39;00msubf_name\u001b[38;5;132;01m}\u001b[39;00m\u001b[38;5;124m\\\u001b[39m\u001b[38;5;132;01m{\u001b[39;00msubf_path\u001b[38;5;132;01m}\u001b[39;00m\u001b[38;5;124m\\\u001b[39m\u001b[38;5;132;01m{\u001b[39;00mimage_subf_path\u001b[38;5;132;01m}\u001b[39;00m\u001b[38;5;124m'\u001b[39m\n\u001b[0;32m     43\u001b[0m \u001b[38;5;66;03m#process the image \u001b[39;00m\n\u001b[1;32m---> 44\u001b[0m image \u001b[38;5;241m=\u001b[39m \u001b[43mpre_process_image\u001b[49m\u001b[43m(\u001b[49m\u001b[43mfull_image_path\u001b[49m\u001b[43m,\u001b[49m\u001b[43m \u001b[49m\u001b[43mimage_target_height\u001b[49m\u001b[43m)\u001b[49m\n\u001b[0;32m     45\u001b[0m \u001b[38;5;66;03m#randomly with a chosen probability augment\u001b[39;00m\n\u001b[0;32m     46\u001b[0m \u001b[38;5;28;01mif\u001b[39;00m np\u001b[38;5;241m.\u001b[39mrandom\u001b[38;5;241m.\u001b[39mrand() \u001b[38;5;241m<\u001b[39m augmentation_probability:\n",
      "Cell \u001b[1;32mIn[2], line 3\u001b[0m, in \u001b[0;36mpre_process_image\u001b[1;34m(image_path, target_height)\u001b[0m\n\u001b[0;32m      1\u001b[0m \u001b[38;5;28;01mdef\u001b[39;00m \u001b[38;5;21mpre_process_image\u001b[39m(image_path, target_height):\n\u001b[0;32m      2\u001b[0m     \u001b[38;5;66;03m# Load image\u001b[39;00m\n\u001b[1;32m----> 3\u001b[0m     image \u001b[38;5;241m=\u001b[39m \u001b[43mtf\u001b[49m\u001b[38;5;241;43m.\u001b[39;49m\u001b[43mio\u001b[49m\u001b[38;5;241;43m.\u001b[39;49m\u001b[43mread_file\u001b[49m\u001b[43m(\u001b[49m\u001b[43mimage_path\u001b[49m\u001b[43m)\u001b[49m\n\u001b[0;32m      4\u001b[0m     image \u001b[38;5;241m=\u001b[39m tf\u001b[38;5;241m.\u001b[39mimage\u001b[38;5;241m.\u001b[39mdecode_image(image, channels\u001b[38;5;241m=\u001b[39m\u001b[38;5;241m1\u001b[39m)  \u001b[38;5;66;03m# Decode to grayscale\u001b[39;00m\n\u001b[0;32m      6\u001b[0m     \u001b[38;5;66;03m# Convert image to float32 and normalize to [0, 1]\u001b[39;00m\n",
      "File \u001b[1;32mc:\\Users\\arsam\\conda\\envs\\OCR-env\\lib\\site-packages\\tensorflow\\python\\ops\\io_ops.py:133\u001b[0m, in \u001b[0;36mread_file\u001b[1;34m(filename, name)\u001b[0m\n\u001b[0;32m     96\u001b[0m \u001b[38;5;129m@tf_export\u001b[39m(\u001b[38;5;124m\"\u001b[39m\u001b[38;5;124mio.read_file\u001b[39m\u001b[38;5;124m\"\u001b[39m, v1\u001b[38;5;241m=\u001b[39m[\u001b[38;5;124m\"\u001b[39m\u001b[38;5;124mio.read_file\u001b[39m\u001b[38;5;124m\"\u001b[39m, \u001b[38;5;124m\"\u001b[39m\u001b[38;5;124mread_file\u001b[39m\u001b[38;5;124m\"\u001b[39m])\n\u001b[0;32m     97\u001b[0m \u001b[38;5;28;01mdef\u001b[39;00m \u001b[38;5;21mread_file\u001b[39m(filename, name\u001b[38;5;241m=\u001b[39m\u001b[38;5;28;01mNone\u001b[39;00m):\n\u001b[0;32m     98\u001b[0m \u001b[38;5;250m  \u001b[39m\u001b[38;5;124;03m\"\"\"Reads the contents of file.\u001b[39;00m\n\u001b[0;32m     99\u001b[0m \n\u001b[0;32m    100\u001b[0m \u001b[38;5;124;03m  This operation returns a tensor with the entire contents of the input\u001b[39;00m\n\u001b[1;32m   (...)\u001b[0m\n\u001b[0;32m    131\u001b[0m \u001b[38;5;124;03m    A tensor of dtype \"string\", with the file contents.\u001b[39;00m\n\u001b[0;32m    132\u001b[0m \u001b[38;5;124;03m  \"\"\"\u001b[39;00m\n\u001b[1;32m--> 133\u001b[0m   \u001b[38;5;28;01mreturn\u001b[39;00m \u001b[43mgen_io_ops\u001b[49m\u001b[38;5;241;43m.\u001b[39;49m\u001b[43mread_file\u001b[49m\u001b[43m(\u001b[49m\u001b[43mfilename\u001b[49m\u001b[43m,\u001b[49m\u001b[43m \u001b[49m\u001b[43mname\u001b[49m\u001b[43m)\u001b[49m\n",
      "File \u001b[1;32mc:\\Users\\arsam\\conda\\envs\\OCR-env\\lib\\site-packages\\tensorflow\\python\\ops\\gen_io_ops.py:581\u001b[0m, in \u001b[0;36mread_file\u001b[1;34m(filename, name)\u001b[0m\n\u001b[0;32m    579\u001b[0m   \u001b[38;5;28;01mpass\u001b[39;00m\n\u001b[0;32m    580\u001b[0m \u001b[38;5;28;01mtry\u001b[39;00m:\n\u001b[1;32m--> 581\u001b[0m   \u001b[38;5;28;01mreturn\u001b[39;00m \u001b[43mread_file_eager_fallback\u001b[49m\u001b[43m(\u001b[49m\n\u001b[0;32m    582\u001b[0m \u001b[43m      \u001b[49m\u001b[43mfilename\u001b[49m\u001b[43m,\u001b[49m\u001b[43m \u001b[49m\u001b[43mname\u001b[49m\u001b[38;5;241;43m=\u001b[39;49m\u001b[43mname\u001b[49m\u001b[43m,\u001b[49m\u001b[43m \u001b[49m\u001b[43mctx\u001b[49m\u001b[38;5;241;43m=\u001b[39;49m\u001b[43m_ctx\u001b[49m\u001b[43m)\u001b[49m\n\u001b[0;32m    583\u001b[0m \u001b[38;5;28;01mexcept\u001b[39;00m _core\u001b[38;5;241m.\u001b[39m_SymbolicException:\n\u001b[0;32m    584\u001b[0m   \u001b[38;5;28;01mpass\u001b[39;00m  \u001b[38;5;66;03m# Add nodes to the TensorFlow graph.\u001b[39;00m\n",
      "File \u001b[1;32mc:\\Users\\arsam\\conda\\envs\\OCR-env\\lib\\site-packages\\tensorflow\\python\\ops\\gen_io_ops.py:604\u001b[0m, in \u001b[0;36mread_file_eager_fallback\u001b[1;34m(filename, name, ctx)\u001b[0m\n\u001b[0;32m    602\u001b[0m _inputs_flat \u001b[38;5;241m=\u001b[39m [filename]\n\u001b[0;32m    603\u001b[0m _attrs \u001b[38;5;241m=\u001b[39m \u001b[38;5;28;01mNone\u001b[39;00m\n\u001b[1;32m--> 604\u001b[0m _result \u001b[38;5;241m=\u001b[39m \u001b[43m_execute\u001b[49m\u001b[38;5;241;43m.\u001b[39;49m\u001b[43mexecute\u001b[49m\u001b[43m(\u001b[49m\u001b[38;5;124;43mb\u001b[39;49m\u001b[38;5;124;43m\"\u001b[39;49m\u001b[38;5;124;43mReadFile\u001b[39;49m\u001b[38;5;124;43m\"\u001b[39;49m\u001b[43m,\u001b[49m\u001b[43m \u001b[49m\u001b[38;5;241;43m1\u001b[39;49m\u001b[43m,\u001b[49m\u001b[43m \u001b[49m\u001b[43minputs\u001b[49m\u001b[38;5;241;43m=\u001b[39;49m\u001b[43m_inputs_flat\u001b[49m\u001b[43m,\u001b[49m\n\u001b[0;32m    605\u001b[0m \u001b[43m                           \u001b[49m\u001b[43mattrs\u001b[49m\u001b[38;5;241;43m=\u001b[39;49m\u001b[43m_attrs\u001b[49m\u001b[43m,\u001b[49m\u001b[43m \u001b[49m\u001b[43mctx\u001b[49m\u001b[38;5;241;43m=\u001b[39;49m\u001b[43mctx\u001b[49m\u001b[43m,\u001b[49m\u001b[43m \u001b[49m\u001b[43mname\u001b[49m\u001b[38;5;241;43m=\u001b[39;49m\u001b[43mname\u001b[49m\u001b[43m)\u001b[49m\n\u001b[0;32m    606\u001b[0m \u001b[38;5;28;01mif\u001b[39;00m _execute\u001b[38;5;241m.\u001b[39mmust_record_gradient():\n\u001b[0;32m    607\u001b[0m   _execute\u001b[38;5;241m.\u001b[39mrecord_gradient(\n\u001b[0;32m    608\u001b[0m       \u001b[38;5;124m\"\u001b[39m\u001b[38;5;124mReadFile\u001b[39m\u001b[38;5;124m\"\u001b[39m, _inputs_flat, _attrs, _result)\n",
      "File \u001b[1;32mc:\\Users\\arsam\\conda\\envs\\OCR-env\\lib\\site-packages\\tensorflow\\python\\eager\\execute.py:54\u001b[0m, in \u001b[0;36mquick_execute\u001b[1;34m(op_name, num_outputs, inputs, attrs, ctx, name)\u001b[0m\n\u001b[0;32m     52\u001b[0m \u001b[38;5;28;01mtry\u001b[39;00m:\n\u001b[0;32m     53\u001b[0m   ctx\u001b[38;5;241m.\u001b[39mensure_initialized()\n\u001b[1;32m---> 54\u001b[0m   tensors \u001b[38;5;241m=\u001b[39m \u001b[43mpywrap_tfe\u001b[49m\u001b[38;5;241;43m.\u001b[39;49m\u001b[43mTFE_Py_Execute\u001b[49m\u001b[43m(\u001b[49m\u001b[43mctx\u001b[49m\u001b[38;5;241;43m.\u001b[39;49m\u001b[43m_handle\u001b[49m\u001b[43m,\u001b[49m\u001b[43m \u001b[49m\u001b[43mdevice_name\u001b[49m\u001b[43m,\u001b[49m\u001b[43m \u001b[49m\u001b[43mop_name\u001b[49m\u001b[43m,\u001b[49m\n\u001b[0;32m     55\u001b[0m \u001b[43m                                      \u001b[49m\u001b[43minputs\u001b[49m\u001b[43m,\u001b[49m\u001b[43m \u001b[49m\u001b[43mattrs\u001b[49m\u001b[43m,\u001b[49m\u001b[43m \u001b[49m\u001b[43mnum_outputs\u001b[49m\u001b[43m)\u001b[49m\n\u001b[0;32m     56\u001b[0m \u001b[38;5;28;01mexcept\u001b[39;00m core\u001b[38;5;241m.\u001b[39m_NotOkStatusException \u001b[38;5;28;01mas\u001b[39;00m e:\n\u001b[0;32m     57\u001b[0m   \u001b[38;5;28;01mif\u001b[39;00m name \u001b[38;5;129;01mis\u001b[39;00m \u001b[38;5;129;01mnot\u001b[39;00m \u001b[38;5;28;01mNone\u001b[39;00m:\n",
      "\u001b[1;31mNotFoundError\u001b[0m: {{function_node __wrapped__ReadFile_device_/job:localhost/replica:0/task:0/device:CPU:0}} NewRandomAccessFile failed to Create/Open: ./data/handwritten lines\\a01\\a01-000u\\a01-000u-00 : The system cannot find the file specified.\r\n; No such file or directory [Op:ReadFile]"
     ]
    }
   ],
   "source": [
    "data_preparator(c().image_paths, c().label_path, 1 )"
   ]
  },
  {
   "cell_type": "code",
   "execution_count": null,
   "metadata": {},
   "outputs": [],
   "source": []
  }
 ],
 "metadata": {
  "kernelspec": {
   "display_name": "Python 3 (ipykernel)",
   "language": "python",
   "name": "python3"
  },
  "language_info": {
   "codemirror_mode": {
    "name": "ipython",
    "version": 3
   },
   "file_extension": ".py",
   "mimetype": "text/x-python",
   "name": "python",
   "nbconvert_exporter": "python",
   "pygments_lexer": "ipython3",
   "version": "3.9.19"
  }
 },
 "nbformat": 4,
 "nbformat_minor": 2
}
