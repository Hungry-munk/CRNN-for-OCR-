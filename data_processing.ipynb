{
 "cells": [
  {
   "cell_type": "markdown",
   "metadata": {},
   "source": [
    "***importing packages and libraries***"
   ]
  },
  {
   "cell_type": "code",
   "execution_count": 1,
   "metadata": {},
   "outputs": [],
   "source": [
    "import numpy as np\n",
    "import tensorflow as tf\n",
    "from tensorflow.keras.layers import RandomBrightness, RandomContrast, RandomZoom\n",
    "import pathlib as pl\n",
    "import xml.etree.ElementTree as ET\n",
    "from configs import modelConfigs as c"
   ]
  },
  {
   "cell_type": "code",
   "execution_count": null,
   "metadata": {},
   "outputs": [],
   "source": [
    "def pre_process_image(image_path, target_height):\n",
    "    # Load image\n",
    "    image = tf.io.read_file(image_path)\n",
    "    image = tf.image.decode_image(image, channels=1)  # Decode to grayscale\n",
    "    \n",
    "    # Convert image to float32 and normalize to [0, 1]\n",
    "    image = tf.image.convert_image_dtype(image, tf.float32)\n",
    "\n",
    "    shape = tf.shape(image)\n",
    "\n",
    "    # Convert to numpy array\n",
    "    h, w, _ = shape.numpy()\n",
    "\n",
    "    # Calculate new width based on target height\n",
    "    aspect_ratio = tf.cast(w, tf.float32) / tf.cast(h, tf.float32)\n",
    "    new_width = tf.cast(target_height * aspect_ratio, tf.int32)\n",
    "\n",
    "    # Resize image\n",
    "    image_resized = tf.image.resize(image, [target_height, new_width])\n",
    "\n",
    "    return image_resized"
   ]
  },
  {
   "cell_type": "code",
   "execution_count": null,
   "metadata": {},
   "outputs": [],
   "source": [
    "# a function to seperate the forms iamges computer text written parts from the hand written parts\n",
    "# important as label would need to be doubled to train both parts and other training complications\n",
    "def forms_text_seporator(form_image):\n",
    "    # handwritten part\n",
    "    HW_part = ...\n",
    "    # computer text part\n",
    "    CT_part = ...\n",
    "\n",
    "    \n",
    "    return CT_part, HW_part "
   ]
  },
  {
   "cell_type": "code",
   "execution_count": null,
   "metadata": {},
   "outputs": [],
   "source": [
    "def build_augmentation_model():\n",
    "    augmentation_model = tf.keras.Sequential([\n",
    "        RandomBrightness(factor=(-0.1, 0.1), value_range=(0, 1)),\n",
    "        RandomContrast(factor=0.05),\n",
    "        RandomZoom(height_factor=(-0.2, 0.2), width_factor=(-0.2, 0.2), fill_mode='constant', fill_value=1.0)     \n",
    "    ])\n",
    "    return augmentation_model\n"
   ]
  },
  {
   "cell_type": "code",
   "execution_count": 37,
   "metadata": {},
   "outputs": [],
   "source": [
    "def data_preparator_2(X_image_paths, Y_image_path , data_length =1000 , image_target_height = 512, augmentation_probability = 0.3, data_split = (0.4, 0.6)):\n",
    "    # directory containing labels for training data\n",
    "    label_dir = pl.Path(Y_image_path)\n",
    "    # forms and lines paths\n",
    "    forms_pat = X_image_paths[0]\n",
    "    lines_path = X_image_paths[1]\n",
    "    # training example and label data X and Y\n",
    "    X = []\n",
    "    Y = []\n",
    "    # keep track of the number files are being added to the data batch\n",
    "    counter = 0\n",
    "    # data augmentor\n",
    "    augmentation_model = build_augmentation_model()\n",
    "\n",
    "    for XML_path in label_dir.iterdir():\n",
    "        if counter == data_length:\n",
    "            break\n",
    "        # get XML root element \n",
    "        root = ET.parse(str(XML_path)).getroot()\n",
    "        # For forms\n",
    "        machine_text = root.find('machine-printed-part')\n",
    "        for lines in machine_text.findall('machine-print-line'):\n",
    "            print(lines.get('text'))\n",
    "        # for lines\n",
    "        handwritten_text = root.find('handwritten-part')\n",
    "        for lines in handwritten_text.findall('line'):\n",
    "            counter += 1\n",
    "            #TODO figure out how to make int osequence label\n",
    "            _ = lines.get('text')\n",
    "            # image path in the subfolder\n",
    "            image_subf_path = lines.get('id')\n",
    "            # sulber folder name (is the first 3 chars)\n",
    "            subf_name = image_subf_path[:2]\n",
    "            full_image_path = f'{lines_path}/{subf_name}/{image_subf_path}'\n",
    "            #process the image \n",
    "            image = pre_process_image(full_image_path, image_target_height)\n",
    "            #randomly with a chosen probability augment\n",
    "            if np.random.rand() < augmentation_probability:\n",
    "                image = augmentation_model(image)\n",
    "            \n",
    "\n",
    "        \n",
    "        \n",
    "\n",
    "\n",
    "\n",
    "    # return np.array(X), np.array(Y)\n",
    "\n"
   ]
  },
  {
   "cell_type": "code",
   "execution_count": 42,
   "metadata": {},
   "outputs": [
    {
     "name": "stdout",
     "output_type": "stream",
     "text": [
      "Nor is she necessarily being deceitful. She really did feel tired until the mind got the\n",
      "necessary injection of a fresh - and an attractive - interest! Tiredness has, therefore,\n",
      "as much to do with our mental state as with our physical exhaustion. A disturbed\n",
      "mind can bring the healthiest body to a sense of fatigue. They wonder why they get\n",
      "no rest at night, even if they do sleep.\n",
      "Nor is she necessarily being deceitful. She really did feel tired\n",
      "d06-050-00\n",
      "until the mind got the necessary injection of a fresh - and an\n",
      "d06-050-01\n",
      "attractive - interest! Tiredness has, therefore, as much to do\n",
      "d06-050-02\n",
      "with our mental state as with our physical exhaustion. A\n",
      "d06-050-03\n",
      "disturbed mind can bring the healthiest body to a sense\n",
      "d06-050-04\n",
      "of fatigue. They wonder why they get no rest at night,\n",
      "d06-050-05\n",
      "even if they do sleep.\n",
      "d06-050-06\n"
     ]
    }
   ],
   "source": [
    "data_preparator_2(c().image_paths, c().label_path, 1 )"
   ]
  }
 ],
 "metadata": {
  "kernelspec": {
   "display_name": "Python 3 (ipykernel)",
   "language": "python",
   "name": "python3"
  },
  "language_info": {
   "codemirror_mode": {
    "name": "ipython",
    "version": 3
   },
   "file_extension": ".py",
   "mimetype": "text/x-python",
   "name": "python",
   "nbconvert_exporter": "python",
   "pygments_lexer": "ipython3",
   "version": "3.9.19"
  }
 },
 "nbformat": 4,
 "nbformat_minor": 2
}
